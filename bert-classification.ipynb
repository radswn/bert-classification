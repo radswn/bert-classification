{
 "cells": [
  {
   "cell_type": "markdown",
   "metadata": {
    "id": "-2o8TkPmZ0QV"
   },
   "source": [
    "# Document Classification with BERT"
   ]
  },
  {
   "cell_type": "markdown",
   "metadata": {
    "id": "tXd_6D33Z0QW"
   },
   "source": [
    "This notebook presents a simple document classification procedure using a pre-trained BERT model.\n",
    "\n",
    "Overview of the notebook:\n",
    "\n",
    "* Loading BERT model & BERT tokenization - we use the `transformers` library from `huggingface` to load a 'bert-base-uncased' model with pre-trained weights. We then utilize appropriate tokenization functions from the same library\n",
    "* Model definition and forward function - we create a PyTorch model with the BERT, Embedding and Linear layers, with CrossEntropy on top of that\n",
    "* Training - again from `huggingface`, we'll use a Trainer instance to automate this process and enable simple reporting to `wandb.ai`\n",
    "* Test Set Evaluation - we evaluate our model on the test set, using the same trainer instance from the previous section\n",
    "* Report of results - at the end, we present a confusion matrix for predictions on the test set"
   ]
  },
  {
   "cell_type": "markdown",
   "source": [
    "First - imports, CUDA setup and `wandb` login"
   ],
   "metadata": {
    "collapsed": false
   }
  },
  {
   "cell_type": "code",
   "execution_count": null,
   "metadata": {
    "id": "bHhIkms-Z0QY"
   },
   "outputs": [],
   "source": [
    "from transformers import BertTokenizer, BertModel, TrainingArguments, Trainer, EarlyStoppingCallback, IntervalStrategy\n",
    "\n",
    "from torch.utils.data import Dataset\n",
    "import torch.nn as nn\n",
    "import torch\n",
    "\n",
    "from sklearn.metrics import accuracy_score, f1_score, precision_score, recall_score, confusion_matrix\n",
    "import wandb\n",
    "\n",
    "import pandas as pd\n",
    "import seaborn as sn\n",
    "import matplotlib.pyplot as plt\n",
    "\n",
    "\n",
    "use_cuda = torch.cuda.is_available()\n",
    "device = torch.device('cuda' if use_cuda else 'cpu')"
   ]
  },
  {
   "cell_type": "code",
   "execution_count": null,
   "metadata": {
    "id": "NcGLySfbZ0Qa",
    "outputId": "a4324ce6-67dd-404f-856e-47c74d6295f0"
   },
   "outputs": [
    {
     "name": "stderr",
     "output_type": "stream",
     "text": [
      "\u001B[34m\u001B[1mwandb\u001B[0m: Currently logged in as: \u001B[33mradswn\u001B[0m. Use \u001B[1m`wandb login --relogin`\u001B[0m to force relogin\n"
     ]
    },
    {
     "data": {
      "text/plain": [
       "True"
      ]
     },
     "execution_count": 2,
     "metadata": {},
     "output_type": "execute_result"
    }
   ],
   "source": [
    "wandb.login()"
   ]
  },
  {
   "cell_type": "markdown",
   "metadata": {
    "id": "xBG8sNJTZ0Qd"
   },
   "source": [
    "## Loading BERT model & BERT tokenization"
   ]
  },
  {
   "cell_type": "code",
   "execution_count": null,
   "metadata": {
    "id": "Jj10_bSEZ0Qe",
    "pycharm": {
     "is_executing": true
    }
   },
   "outputs": [],
   "source": [
    "tokenizer = BertTokenizer.from_pretrained('bert-base-uncased')\n",
    "bert_model = BertModel.from_pretrained(\n",
    "    'bert-base-uncased',\n",
    "    output_attentions=False,\n",
    "    output_hidden_states=False\n",
    ").to(device)"
   ]
  },
  {
   "cell_type": "markdown",
   "metadata": {
    "id": "pEUdm0ijZ0Qf"
   },
   "source": [
    "We will be using a subset of the `HumSet` [dataset](https://blog.thedeep.io/humset/), created by the [DEEP](https://www.thedeep.io) project – an open source platform which aims to facilitate processing of textual data for international humanitarian response organizations. The platform enables the classification of text excerpts, extracted from news and reports into a set of domain specific classes. The provided dataset contains the classes (labels) referring to the humanitarian sectors like agriculture, health, and protection. The dataset contains an overall number of 17,301 data points."
   ]
  },
  {
   "cell_type": "code",
   "execution_count": null,
   "metadata": {
    "id": "RvzjDthdZ0Qg"
   },
   "outputs": [],
   "source": [
    "data_train = pd.read_csv('./data/thedeep.subset.train.txt', header=None, usecols=[1, 2], names=['text', 'label'])\n",
    "data_validation = pd.read_csv('./data/thedeep.subset.validation.txt', header=None, usecols=[1, 2], names=['text', 'label'])\n",
    "data_test = pd.read_csv('./data/thedeep.subset.test.txt', header=None, usecols=[1, 2], names=['text', 'label'])\n",
    "label_names = pd.read_csv('./data/thedeep.labels.txt', header=None, names=['id', 'name'])"
   ]
  },
  {
   "cell_type": "markdown",
   "metadata": {
    "id": "8lJZC8LZZ0Qh"
   },
   "source": [
    "Let's plot the document length, so we can decide on the `max_document_length` for the tokenizer"
   ]
  },
  {
   "cell_type": "code",
   "execution_count": null,
   "metadata": {
    "id": "qePjCku0Z0Qi",
    "outputId": "64d12025-64a8-423a-f927-dc592aad0b1e"
   },
   "outputs": [
    {
     "data": {
      "text/plain": [
       "<AxesSubplot: >"
      ]
     },
     "execution_count": 5,
     "metadata": {},
     "output_type": "execute_result"
    },
    {
     "data": {
      "image/png": "[encoded data removed]",
      "text/plain": [
       "<Figure size 640x480 with 1 Axes>"
      ]
     },
     "metadata": {},
     "output_type": "display_data"
    }
   ],
   "source": [
    "data_train['text'].apply(lambda x: len(x.split())).hist(bins=100)"
   ]
  },
  {
   "cell_type": "markdown",
   "metadata": {
    "id": "mDloi5dxZ0Qj"
   },
   "source": [
    "Let's perform tokenization. We'll be using padding and truncation so that every sample is of size 512."
   ]
  },
  {
   "cell_type": "code",
   "execution_count": null,
   "metadata": {
    "id": "iD5AxkR6Z0Qk"
   },
   "outputs": [],
   "source": [
    "max_document_length = 512\n",
    "tokens_train = tokenizer(data_train['text'].tolist(), padding='max_length', max_length=max_document_length, truncation=True, return_tensors='pt')\n",
    "tokens_validation = tokenizer(data_validation['text'].tolist(), padding='max_length', max_length=max_document_length, truncation=True, return_tensors='pt')\n",
    "tokens_test = tokenizer(data_test['text'].tolist(), padding='max_length', max_length=max_document_length, truncation=True, return_tensors='pt')"
   ]
  },
  {
   "cell_type": "markdown",
   "metadata": {
    "id": "9uosKyxeZ0Qk"
   },
   "source": [
    "Let's not forget about the samples' labels. We'll convert them to lists so that it's easier to compute loss later on."
   ]
  },
  {
   "cell_type": "code",
   "execution_count": null,
   "metadata": {
    "id": "1a5jh4NFZ0Ql"
   },
   "outputs": [],
   "source": [
    "labels_train = torch.tensor(data_train['label'].tolist())\n",
    "labels_validation = torch.tensor(data_validation['label'].tolist())\n",
    "labels_test = torch.tensor(data_test['label'].tolist())"
   ]
  },
  {
   "cell_type": "markdown",
   "metadata": {
    "id": "xQlMEueTZ0Qm"
   },
   "source": [
    "A simple, custom `torch.data.utils.Dataset` class for out `DataLoader`. In the `__getitem__` we return everything necessary for the future model's forward and backward pass."
   ]
  },
  {
   "cell_type": "code",
   "execution_count": null,
   "metadata": {
    "id": "CK-5-XYEZ0Qn"
   },
   "outputs": [],
   "source": [
    "class TextDataset(Dataset):\n",
    "    def __init__(self, tokens_dict, labels: torch.Tensor):\n",
    "        self.input_ids = tokens_dict.input_ids\n",
    "        self.attention_mask = tokens_dict.attention_mask\n",
    "        self.token_type_ids = tokens_dict.token_type_ids\n",
    "        self.y = labels\n",
    "\n",
    "    def __len__(self):\n",
    "        return len(self.y)\n",
    "\n",
    "    def __getitem__(self, i):\n",
    "        return {\n",
    "            'input_ids': self.input_ids[i],\n",
    "            'attention_mask': self.attention_mask[i],\n",
    "            'token_type_ids': self.token_type_ids[i],\n",
    "            'labels': self.y[i]\n",
    "        }"
   ]
  },
  {
   "cell_type": "markdown",
   "metadata": {
    "id": "N4nx8mT8Z0Qo"
   },
   "source": [
    "We create our datasets and set `batch_size` to 16."
   ]
  },
  {
   "cell_type": "code",
   "execution_count": null,
   "metadata": {
    "id": "KHoxwyr_Z0Qp"
   },
   "outputs": [],
   "source": [
    "train_dataset = TextDataset(tokens_train, labels_train)\n",
    "validation_dataset = TextDataset(tokens_validation, labels_validation)\n",
    "test_dataset = TextDataset(tokens_test, labels_test)\n",
    "\n",
    "batch_size = 16"
   ]
  },
  {
   "cell_type": "markdown",
   "metadata": {
    "id": "G4Q6D999Z0Qq"
   },
   "source": [
    "## Model definition & forward function\n",
    "\n",
    "Here we define our model. We take the BERT pre-trained model and assign it as a parameter. We put the `Linear` layer on top of it with `in_features` equal to BERT's last layer output size and `out_features` equal to the number of classes in our dataset (12). We also _freeze_ BERT parameters, as my GPU is not capable of efficiently training this whole monstrosity with 110M parameters. Also, BERT's parameters are fine as they are - they were already trained for us with much more data, we only want to train our linear _head_ that we put on top of it.\n",
    "\n",
    "We skip the `Softmax` layer, as our `CrossEntropyLoss` uses it already (softmaxing twice would lead to inefficient training).\n",
    "\n",
    "In the `forward` function, we get the last hidden state from BERT, then we apply our expanded attention mask, so that only embeddings of actual document words are left. We take the mean of it and pass it to the linear layer. We take `argmax` of the logits to get predictions, which are necessary to compute our additional metrics."
   ]
  },
  {
   "cell_type": "code",
   "execution_count": null,
   "metadata": {
    "id": "XBdeHDmRZ0Qr"
   },
   "outputs": [],
   "source": [
    "class ClassificationBERTModel(nn.Module):\n",
    "    def __init__(self, bert_model: BertModel):\n",
    "        super(ClassificationBERTModel, self).__init__()\n",
    "        self.bert = bert_model\n",
    "        self.linear = nn.Linear(768, 12)\n",
    "        self.loss = nn.CrossEntropyLoss()\n",
    "\n",
    "        for param in self.bert.parameters():\n",
    "            param.requires_grad = False\n",
    "\n",
    "    def forward(self, input_ids, attention_mask, token_type_ids, labels):\n",
    "        x = self.bert(input_ids=input_ids, attention_mask=attention_mask, token_type_ids=token_type_ids).last_hidden_state\n",
    "        attention = attention_mask.unsqueeze(2).expand(-1, -1, 768)\n",
    "        x = x * attention\n",
    "        x = x.sum(1)/(x != 0).sum(1)\n",
    "        x = self.linear(x)\n",
    "\n",
    "        return self.loss(x, labels), x"
   ]
  },
  {
   "cell_type": "markdown",
   "metadata": {
    "id": "Gc8UWobJZ0Qs"
   },
   "source": [
    "## Training\n",
    "\n",
    "We will use `huggingface` Trainer instance, with training arguments defined as below.\n",
    "\n",
    "All the optimizing stuff is taken default from the Trainer, specifically:\n",
    "* Optimizer: AdamW(beta1=0.9, beta2=0.999, epsilon=1e-08)\n",
    "* LearningRateScheduler: Linear\n",
    "* Early stopping: whenever there are 2 consecutive epochs of decreasing accuracy score\n",
    "\n",
    "The outputs will be then reported to the `wandb` dashboard."
   ]
  },
  {
   "cell_type": "code",
   "execution_count": null,
   "metadata": {
    "id": "yBvqyfNSZ0Qu"
   },
   "outputs": [],
   "source": [
    "training_args = TrainingArguments(\n",
    "    output_dir='ClassificationBERT',\n",
    "    learning_rate=1e-3,\n",
    "    evaluation_strategy=IntervalStrategy.EPOCH,\n",
    "    save_strategy=IntervalStrategy.EPOCH,\n",
    "    logging_strategy=IntervalStrategy.EPOCH,\n",
    "    per_device_train_batch_size=batch_size,\n",
    "    per_device_eval_batch_size=batch_size,\n",
    "    load_best_model_at_end=True,\n",
    "    metric_for_best_model='accuracy',\n",
    "    num_train_epochs=20,\n",
    "    report_to=['wandb']\n",
    ")"
   ]
  },
  {
   "cell_type": "code",
   "execution_count": null,
   "metadata": {
    "id": "J-xAHUVdZ0Qv"
   },
   "outputs": [],
   "source": [
    "def compute_metrics(p):\n",
    "    pred, labels = p\n",
    "    pred = pred.argmax(1)\n",
    "    accuracy = accuracy_score(y_true=labels, y_pred=pred)\n",
    "    recall = recall_score(y_true=labels, y_pred=pred, average='macro')\n",
    "    precision = precision_score(y_true=labels, y_pred=pred, average='macro')\n",
    "    f1 = f1_score(y_true=labels, y_pred=pred, average='macro')\n",
    "    return {\"accuracy\": accuracy, \"precision\": precision, \"recall\": recall, \"f1\": f1}"
   ]
  },
  {
   "cell_type": "code",
   "execution_count": null,
   "metadata": {
    "id": "-fzFgT35Z0Qx"
   },
   "outputs": [],
   "source": [
    "trainer = Trainer(\n",
    "    model=ClassificationBERTModel(bert_model).to(device),\n",
    "    train_dataset=train_dataset,\n",
    "    eval_dataset=validation_dataset,\n",
    "    compute_metrics=compute_metrics,\n",
    "    callbacks=[EarlyStoppingCallback(early_stopping_patience=2)],\n",
    "    args=training_args\n",
    ")"
   ]
  },
  {
   "cell_type": "code",
   "execution_count": null,
   "metadata": {
    "id": "o2JMxHkaZ0Qy",
    "pycharm": {
     "is_executing": true
    }
   },
   "outputs": [],
   "source": [
    "trainer.train()"
   ]
  },
  {
   "cell_type": "markdown",
   "metadata": {
    "id": "lMBAO3uAZ0Qz"
   },
   "source": [
    "## Test & validation set evaluation"
   ]
  },
  {
   "cell_type": "code",
   "execution_count": null,
   "metadata": {
    "id": "VAfsOOmdZ0Q0",
    "pycharm": {
     "is_executing": true
    }
   },
   "outputs": [],
   "source": [
    "eval_result = trainer.predict(validation_dataset)\n",
    "test_result = trainer.predict(test_dataset)"
   ]
  },
  {
   "cell_type": "code",
   "execution_count": null,
   "metadata": {
    "id": "1HV4AYB6Z0Q2"
   },
   "outputs": [],
   "source": [
    "eval_pred = eval_result.predictions.argmax(1)\n",
    "test_pred = test_result.predictions.argmax(1)"
   ]
  },
  {
   "cell_type": "code",
   "execution_count": null,
   "metadata": {
    "id": "o2-8LaHkZ0Q3"
   },
   "outputs": [],
   "source": [
    "eval_metrics = eval_result.metrics\n",
    "test_metrics = test_result.metrics"
   ]
  },
  {
   "cell_type": "markdown",
   "source": [
    "## Reporting\n",
    "\n",
    "[wandb dashboard](https://wandb.ai/radswn/huggingface)"
   ],
   "metadata": {
    "collapsed": false
   }
  },
  {
   "cell_type": "code",
   "execution_count": null,
   "metadata": {
    "id": "8z-9FDr0Z0Q3"
   },
   "outputs": [],
   "source": [
    "report_table = pd.DataFrame([eval_metrics, test_metrics], index=['validation', 'test'])\n",
    "report_table.columns = [c[5:] for c in report_table.columns]"
   ]
  },
  {
   "cell_type": "code",
   "execution_count": null,
   "metadata": {
    "id": "IQsgkngBZ0Q4",
    "outputId": "89dc3e28-7e71-4a5d-f2a9-f5a47b25e29b"
   },
   "outputs": [
    {
     "data": {
      "text/html": [
       "<div>\n",
       "<style scoped>\n",
       "    .dataframe tbody tr th:only-of-type {\n",
       "        vertical-align: middle;\n",
       "    }\n",
       "\n",
       "    .dataframe tbody tr th {\n",
       "        vertical-align: top;\n",
       "    }\n",
       "\n",
       "    .dataframe thead th {\n",
       "        text-align: right;\n",
       "    }\n",
       "</style>\n",
       "<table border=\"1\" class=\"dataframe\">\n",
       "  <thead>\n",
       "    <tr style=\"text-align: right;\">\n",
       "      <th></th>\n",
       "      <th>loss</th>\n",
       "      <th>accuracy</th>\n",
       "      <th>precision</th>\n",
       "      <th>recall</th>\n",
       "      <th>f1</th>\n",
       "      <th>runtime</th>\n",
       "      <th>samples_per_second</th>\n",
       "      <th>steps_per_second</th>\n",
       "    </tr>\n",
       "  </thead>\n",
       "  <tbody>\n",
       "    <tr>\n",
       "      <th>validation</th>\n",
       "      <td>0.747993</td>\n",
       "      <td>0.783898</td>\n",
       "      <td>0.698936</td>\n",
       "      <td>0.627699</td>\n",
       "      <td>0.65476</td>\n",
       "      <td>80.3958</td>\n",
       "      <td>32.290</td>\n",
       "      <td>2.027</td>\n",
       "    </tr>\n",
       "    <tr>\n",
       "      <th>test</th>\n",
       "      <td>0.751320</td>\n",
       "      <td>0.784586</td>\n",
       "      <td>0.687349</td>\n",
       "      <td>0.620998</td>\n",
       "      <td>0.64271</td>\n",
       "      <td>82.8054</td>\n",
       "      <td>31.339</td>\n",
       "      <td>1.968</td>\n",
       "    </tr>\n",
       "  </tbody>\n",
       "</table>\n",
       "</div>"
      ],
      "text/plain": [
       "                loss  accuracy  precision    recall       f1  runtime  \\\n",
       "validation  0.747993  0.783898   0.698936  0.627699  0.65476  80.3958   \n",
       "test        0.751320  0.784586   0.687349  0.620998  0.64271  82.8054   \n",
       "\n",
       "            samples_per_second  steps_per_second  \n",
       "validation              32.290             2.027  \n",
       "test                    31.339             1.968  "
      ]
     },
     "execution_count": 37,
     "metadata": {},
     "output_type": "execute_result"
    }
   ],
   "source": [
    "report_table"
   ]
  },
  {
   "cell_type": "code",
   "execution_count": null,
   "metadata": {
    "id": "z72oj_iyZ0Q5",
    "outputId": "26c4794c-4d38-4f8a-88fb-d92e53ba873f"
   },
   "outputs": [
    {
     "data": {
      "image/png": "[encoded data removed]",
      "text/plain": [
       "<Figure size 800x600 with 1 Axes>"
      ]
     },
     "metadata": {},
     "output_type": "display_data"
    }
   ],
   "source": [
    "plt.figure(figsize=(8, 6))\n",
    "conf_matrix = confusion_matrix(labels_test, test_pred)\n",
    "sn.heatmap(conf_matrix, annot=True, annot_kws={'size': 10}, fmt='d', cbar=False, square=True, xticklabels=label_names.name, yticklabels=label_names.name)\n",
    "\n",
    "plt.title('Confusion matrix of the test set evaluation')\n",
    "plt.ylabel('true class')\n",
    "plt.xlabel('predicted class')\n",
    "plt.show()"
   ]
  }
 ],
 "metadata": {
  "colab": {
   "provenance": []
  },
  "kernelspec": {
   "display_name": "Python 3 (ipykernel)",
   "language": "python",
   "name": "python3"
  },
  "language_info": {
   "codemirror_mode": {
    "name": "ipython",
    "version": 3
   },
   "file_extension": ".py",
   "mimetype": "text/x-python",
   "name": "python",
   "nbconvert_exporter": "python",
   "pygments_lexer": "ipython3",
   "version": "3.9.1"
  }
 },
 "nbformat": 4,
 "nbformat_minor": 1
}
